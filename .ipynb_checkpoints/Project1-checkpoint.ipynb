{
 "cells": [
  {
   "cell_type": "markdown",
   "metadata": {},
   "source": [
    "# Project 1\n",
    "\n",
    "## (Subject)"
   ]
  },
  {
   "cell_type": "code",
   "execution_count": 10,
   "metadata": {},
   "outputs": [
    {
     "data": {
      "text/plain": [
       "'en_US.UTF-8'"
      ]
     },
     "execution_count": 10,
     "metadata": {},
     "output_type": "execute_result"
    }
   ],
   "source": [
    "import pandas as pd\n",
    "from matplotlib import pyplot as plt\n",
    "import locale\n",
    "import math\n",
    "from countries import countries as c_list\n",
    "import statsmodels.api as sm\n",
    "\n",
    "locale.setlocale(locale.LC_ALL, 'en_US.UTF-8') "
   ]
  },
  {
   "cell_type": "markdown",
   "metadata": {},
   "source": [
    "## Import data"
   ]
  },
  {
   "cell_type": "code",
   "execution_count": 11,
   "metadata": {},
   "outputs": [],
   "source": [
    "# Full-code example\n",
    "# GDP_data = pd.read_csv(\"Data/SYB62_T13_201904_GDP_and_GDP_Per_Capita.csv\", encoding=\"ISO-8859-1\", skiprows=[0])\n",
    "\n",
    "# Function to import\n",
    "def myImport(target):\n",
    "    out = pd.read_csv(target, skiprows = [0], encoding=\"ISO-8859-1\")\n",
    "    return out\n",
    "    \n",
    "LE_df = myImport(\"Data/SYB60_T03_Population Growth_Fertility_and_Mortality_Indicators.csv\")\n",
    "GDP_df = myImport(\"Data/SYB62_T13_201904_GDP_and_GDP_Per_Capita.csv\")\n",
    "POP_df = myImport(\"Data/SYB61_T02_Population_Surface_Area_and_Density.csv\")\n",
    "POPg_df = myImport(\"Data/SYB61_T03_Population_Growth_Rates_in_Urban_areas_and_Capital_cities.csv\")\n",
    "NRG_df = myImport( \"Data/SYB62_T23_201904_Production_Trade_and_Supply_of_Energy.csv\")"
   ]
  },
  {
   "cell_type": "markdown",
   "metadata": {},
   "source": [
    "## Helper functions"
   ]
  },
  {
   "cell_type": "code",
   "execution_count": 31,
   "metadata": {},
   "outputs": [],
   "source": [
    "# Original code:\n",
    "#LE_filtered_df = LE_df.loc[(LE_df[\"Series\"] == \"Life expectancy at birth for both sexes (years)\")]\\\n",
    "#    .drop(columns=[\"Footnotes\", \"Source\", \"Series\"])\\\n",
    "#    .rename(columns={\"Unnamed: 1\": \"Place\",\n",
    "#                     \"Value\": \"Life Expectency\"})\n",
    "\n",
    "all_df = pd.DataFrame()\n",
    "\n",
    "# Make it easier to filter data\n",
    "def importDataFrame(df, series, name):\n",
    "    # Build a drop list\n",
    "    droplist = [var for var in df.columns if var not in [\"Unnamed: 1\", \"Region/Country/Area\", \"Year\", \"Value\"]]\n",
    "    \n",
    "    # Read in data, changing column names and keeping only desired data\n",
    "    new = df.loc[df[\"Series\"] == f\"{series}\"]\\\n",
    "        .drop(columns=droplist)\\\n",
    "        .rename(columns={\"Unnamed: 1\": \"Place\",\n",
    "                         \"Value\": f\"{name}\"})\\\n",
    "        .set_index(\"Place\", drop=True)\\\n",
    "        .loc[c_list]\\\n",
    "        .dropna()\n",
    "        \n",
    "    # Value read in is expected to be numeric.  Process as needed to return numeric\n",
    "    new[f\"{name}\"] = new[f\"{name}\"]\\\n",
    "        .transform(lambda x: x.replace(',', ''))\\\n",
    "        .apply(float)    \n",
    "    \n",
    "    if \"all_df\" not in locals():\n",
    "        print(f\"Got here. {name}\")\n",
    "        all_df = new\n",
    "    else:\n",
    "        pd.merge(all_df, new, on=[\"Region/Country/Area\", \"Year\"], how=\"outer\")\n",
    "    \n",
    "    return new\n",
    "\n",
    "# Get top and bottom in category\n",
    "def getTopAndBottom(value, df, num=5):\n",
    "    top = df.loc[df[\"Year\"] == 2015]\\\n",
    "        .sort_values(f\"{value}\")\\\n",
    "        .tail(num)\\\n",
    "        .index\\\n",
    "        .to_list()\n",
    "\n",
    "    bottom = df.loc[df[\"Year\"] == 2015]\\\n",
    "        .sort_values(f\"{value}\")\\\n",
    "        .head(num)\\\n",
    "        .index\\\n",
    "        .to_list()\n",
    "    \n",
    "    return (top, bottom)\n",
    "\n",
    "# Get bounds for year-dependent plot\n",
    "def getYearPlotBounds(value, df, off_pct=0.05):\n",
    "    # Exact bounds\n",
    "    min_x = df.sort_values(\"Year\").iloc[0][\"Year\"]\n",
    "    max_x = df.sort_values(\"Year\").iloc[-1][\"Year\"]\n",
    "    min_y = df.sort_values(f\"{value}\").iloc[0][f\"{value}\"]\n",
    "    max_y = df.sort_values(f\"{value}\").iloc[-1][f\"{value}\"]\n",
    "    \n",
    "    # Offsets\n",
    "    off_min_x = min_x - (max_x - min_x) * off_pct\n",
    "    off_max_x = max_x + (max_x - min_x) * off_pct\n",
    "    off_min_y = min_y - (max_y - min_y) * off_pct\n",
    "    off_max_y = max_y + (max_y - min_y) * off_pct\n",
    "    \n",
    "    return ([min_x, max_x, min_y, max_y],\n",
    "            [off_min_x, off_max_x, off_min_y, off_max_y])\n",
    "\n",
    "\n",
    "# Make the plots\n",
    "\n",
    "def myScatter(value1, label1, value2, label2, title, saveas, df1, df2, \n",
    "              off_pct1=0.05, off_pct2=0.05):\n",
    "\n",
    "    # Parameters denoted with a 1 correspond to x-axis; 2 represents y-axis\n",
    "\n",
    "    # Initialize graph\n",
    "    fig, ax = plt.subplots()\n",
    "    fig.set_figheight(10)\n",
    "    fig.set_figwidth(20)\n",
    "    ax.grid()\n",
    "    \n",
    "    # Get axis limits\n",
    "    x_exact, x_off = getYearPlotBounds(value1, df=df1, off_pct=off_pct1)\n",
    "    y_exact, y_off = getYearPlotBounds(value2, df=df2, off_pct=off_pct2)\n",
    "    \n",
    "    ax.set_xlim((x_off[2], x_off[3]))\n",
    "    ax.set_ylim((y_off[2], y_off[3]))\n",
    "    \n",
    "    ax.set_xlabel(f\"{label1}\", fontsize=18)\n",
    "    ax.set_ylabel(f\"{label2}\", fontsize=18)\n",
    "    ax.set_title(f\"{title}\", fontsize=25)\n",
    "    ax.tick_params(labelsize=14)\n",
    "\n",
    "    # Plot one year\n",
    "    ax.scatter(df1.loc[df1[\"Year\"] == 2005][f\"{value1}\"],\n",
    "               df2.loc[df2[\"Year\"] == 2005][f\"{value2}\"],\n",
    "               s = 75,\n",
    "               c = \"red\",\n",
    "               alpha = 0.5,\n",
    "               marker = \"o\",\n",
    "               label=\"2005\")\n",
    "\n",
    "    # Plot one year\n",
    "    ax.scatter(df1.loc[df1[\"Year\"] == 2010][f\"{value1}\"],\n",
    "               df2.loc[df2[\"Year\"] == 2010][f\"{value2}\"],\n",
    "               s = 75,\n",
    "               c = \"red\",\n",
    "               alpha = 0.5,\n",
    "               marker = \"o\",\n",
    "               label=\"2010\")\n",
    "\n",
    "    # Plot one year\n",
    "    ax.scatter(df1.loc[df1[\"Year\"] == 2015][f\"{value1}\"],\n",
    "               df2.loc[df2[\"Year\"] == 2015][f\"{value2}\"],\n",
    "               s = 75,\n",
    "               c = \"red\",\n",
    "               alpha = 0.5,\n",
    "               marker = \"o\",\n",
    "               label=\"2015\")\n",
    "\n",
    "    ax.legend(fontsize=12)\n",
    "\n",
    "    plt.savefig(f\"{saveas}.png\")\n",
    "    \n",
    "    return fig, ax"
   ]
  },
  {
   "cell_type": "code",
   "execution_count": 32,
   "metadata": {},
   "outputs": [
    {
     "name": "stderr",
     "output_type": "stream",
     "text": [
      "/opt/anaconda/lib/python3.7/site-packages/ipykernel_launcher.py:20: FutureWarning: \n",
      "Passing list-likes to .loc or [] with any missing label will raise\n",
      "KeyError in the future, you can use .reindex() as an alternative.\n",
      "\n",
      "See the documentation here:\n",
      "https://pandas.pydata.org/pandas-docs/stable/indexing.html#deprecate-loc-reindex-listlike\n"
     ]
    },
    {
     "name": "stdout",
     "output_type": "stream",
     "text": [
      "Got here. Life Expectancy\n",
      "Got here. GDP\n",
      "Got here. Total Population\n"
     ]
    }
   ],
   "source": [
    "# Build master df\n",
    "LE_filtered_df = importDataFrame(LE_df, \"Life expectancy at birth for both sexes (years)\", \"Life Expectancy\")\n",
    "GDP_filtered_df = importDataFrame(GDP_df, \"GDP per capita (US dollars)\", \"GDP\")\n",
    "POP_filtered_df = importDataFrame(POP_df, \"Population mid-year estimates (millions)\", \"Total Population\")\n"
   ]
  },
  {
   "cell_type": "markdown",
   "metadata": {},
   "source": [
    "## Life expectancy by GDP and Year"
   ]
  },
  {
   "cell_type": "markdown",
   "metadata": {},
   "source": [
    "### Process data"
   ]
  },
  {
   "cell_type": "code",
   "execution_count": null,
   "metadata": {},
   "outputs": [],
   "source": [
    "# Merge data\n",
    "GDP_LE_df = LE_filtered_df.merge(GDP_filtered_df, on=[\"Region/Country/Area\", \"Place\", \"Year\"], how=\"inner\")\n",
    "#GDP_LE_df = GDP_LE_df.set_index(\"Place\", drop=True).loc[c_list].dropna()\n",
    "\n",
    "# Give summary of data lost due to incomplete data\n",
    "print(f\"LE: {len(LE_filtered_df)}\\nGDP: {len(GDP_filtered_df)}\\nMERGED: {len(GDP_LE_df)}\")\n",
    "# TODO: Show which \"Place\" values are falling out"
   ]
  },
  {
   "cell_type": "markdown",
   "metadata": {},
   "source": [
    "### By-year snapshots"
   ]
  },
  {
   "cell_type": "code",
   "execution_count": null,
   "metadata": {},
   "outputs": [],
   "source": [
    "# Split up for snapshots\n",
    "GDP_LE_2005 = GDP_LE_df.loc[GDP_LE_df[\"Year\"] == 2005]\n",
    "GDP_LE_2010 = GDP_LE_df.loc[GDP_LE_df[\"Year\"] == 2010]\n",
    "GDP_LE_2015 = GDP_LE_df.loc[GDP_LE_df[\"Year\"] == 2015]"
   ]
  },
  {
   "cell_type": "markdown",
   "metadata": {},
   "source": [
    "### Get regression line"
   ]
  },
  {
   "cell_type": "code",
   "execution_count": null,
   "metadata": {},
   "outputs": [],
   "source": [
    "# Get regression line for relationship\n",
    "# Based on assumption there is a log-linear relation\n",
    "# See https://blog.euromonitor.com/economic-growth-and-life-expectancy-do-wealthier-countries-live-longer/\n",
    "\n",
    "model_2005 = sm.OLS(GDP_LE_2005_filter[\"Life Expectancy\"], GDP_LE_2005_filter[\"Log GDP\"])\n",
    "slope_2005 = model_2005.fit().params.values[0]\n",
    "\n",
    "model_2010 = sm.OLS(GDP_LE_2010_filter[\"Life Expectancy\"], GDP_LE_2010_filter[\"Log GDP\"])\n",
    "slope_2010 = model_2010.fit().params.values[0]\n",
    "\n",
    "model_2015 = sm.OLS(GDP_LE_2015_filter[\"Life Expectancy\"], GDP_LE_2015_filter[\"Log GDP\"])\n",
    "slope_2015 = model_2015.fit().params.values[0]\n",
    "\n",
    "print(f\"Slopes:\\n2005: {slope_2005}\\n2010: {slope_2010}\\n2015: {slope_2015}\")"
   ]
  },
  {
   "cell_type": "markdown",
   "metadata": {},
   "source": [
    "### Get bounds of plot"
   ]
  },
  {
   "cell_type": "code",
   "execution_count": null,
   "metadata": {},
   "outputs": [],
   "source": [
    "# Get bounds of plot\n",
    "\n",
    "min_x = GDP_LE_df.sort_values(\"Log GDP\").iloc[0][\"Log GDP\"]\n",
    "max_x = GDP_LE_df.sort_values(\"Log GDP\").iloc[-1][\"Log GDP\"]\n",
    "min_y = GDP_LE_df.sort_values(\"Life Expectancy\").iloc[0][\"Life Expectancy\"]\n",
    "max_y = GDP_LE_df.sort_values(\"Life Expectancy\").iloc[-1][\"Life Expectancy\"]\n",
    "\n",
    "print(f\"Min x: {min_x}\\nMax x: {max_x}\\nMin y: {min_y}\\nMax y: {max_y}\")"
   ]
  },
  {
   "cell_type": "markdown",
   "metadata": {},
   "source": [
    "### Create the plot"
   ]
  },
  {
   "cell_type": "code",
   "execution_count": null,
   "metadata": {},
   "outputs": [],
   "source": [
    "# Make the plots\n",
    "\n",
    "# Initialize graph\n",
    "fig, ax = plt.subplots()\n",
    "fig.set_figheight(10)\n",
    "fig.set_figwidth(20)\n",
    "ax.grid()\n",
    "ax.set_xlim((min_x - 0.05*(max_x - min_x)), \n",
    "            (max_x + 0.05*(max_x - min_x)))\n",
    "ax.set_ylim((min_y - 0.05*(max_y - min_y)), \n",
    "            (max_y + 0.05*(max_y - min_y)))\n",
    "#ax.set_xticks(GDP_LE_2005_filter[\"GDP\"].apply(locale.atoi))\n",
    "ax.set_xlabel(\"Log-Transformed Per Capita GDP (US Dollars)\", fontsize=18)\n",
    "ax.set_ylabel(\"Life Expectancy at birth (years)\", fontsize=18)\n",
    "ax.set_title(\"Life Expectancy at birth vs. Log-Transformed Per Capita GDP\", fontsize=25)\n",
    "ax.tick_params(labelsize=14)\n",
    "\n",
    "# Plot one year\n",
    "ax.scatter(GDP_LE_2005_filter[\"Log GDP\"],\n",
    "           GDP_LE_2005_filter[\"Life Expectancy\"].apply(pd.to_numeric),\n",
    "           s = 75,\n",
    "           c = \"red\",\n",
    "           alpha = 0.5,\n",
    "           marker = \"o\",\n",
    "           label=\"2005\")\n",
    "\n",
    "ax.plot([min_x - 0.05*(max_x - min_x), max_x + 0.05*(max_x - min_x)],\n",
    "        [slope_2005 * (min_x - 0.05*(max_x - min_x)), slope_2005 * (max_x + 0.05*(max_x - min_x))],\n",
    "        color = \"red\")\n",
    "\n",
    "ax.scatter(GDP_LE_2010_filter[\"Log GDP\"],\n",
    "           GDP_LE_2010_filter[\"Life Expectancy\"].apply(pd.to_numeric),\n",
    "           s = 75,\n",
    "           c = \"blue\",\n",
    "           alpha = 0.5,\n",
    "           marker = \"o\",\n",
    "           label=\"2010\")\n",
    "\n",
    "ax.plot([min_x - 0.05*(max_x - min_x), max_x + 0.05*(max_x - min_x)],\n",
    "        [slope_2010 * (min_x - 0.05*(max_x - min_x)), slope_2010 * (max_x + 0.05*(max_x - min_x))],\n",
    "        color = \"blue\")\n",
    "\n",
    "ax.scatter(GDP_LE_2015_filter[\"Log GDP\"],\n",
    "           GDP_LE_2015_filter[\"Life Expectancy\"].apply(pd.to_numeric),\n",
    "           s = 75,\n",
    "           c = \"green\",\n",
    "           alpha = 0.5,\n",
    "           marker = \"o\",\n",
    "           label=\"2015\")\n",
    "\n",
    "ax.plot([min_x - 0.05*(max_x - min_x), max_x + 0.05*(max_x - min_x)],\n",
    "        [slope_2015 * (min_x - 0.05*(max_x - min_x)), slope_2015 * (max_x + 0.05*(max_x - min_x))],\n",
    "        color = \"green\")\n",
    "\n",
    "ax.legend(fontsize=12)\n",
    "\n",
    "plt.savefig(\"GDP_logLE.png\")"
   ]
  },
  {
   "cell_type": "markdown",
   "metadata": {},
   "source": [
    "## Population summaries"
   ]
  },
  {
   "cell_type": "markdown",
   "metadata": {},
   "source": [
    "### Process Data"
   ]
  },
  {
   "cell_type": "code",
   "execution_count": 18,
   "metadata": {},
   "outputs": [
    {
     "name": "stderr",
     "output_type": "stream",
     "text": [
      "/opt/anaconda/lib/python3.7/site-packages/ipykernel_launcher.py:23: FutureWarning: \n",
      "Passing list-likes to .loc or [] with any missing label will raise\n",
      "KeyError in the future, you can use .reindex() as an alternative.\n",
      "\n",
      "See the documentation here:\n",
      "https://pandas.pydata.org/pandas-docs/stable/indexing.html#deprecate-loc-reindex-listlike\n"
     ]
    }
   ],
   "source": [
    "# Filter population data\n",
    "POP_filtered_df = myFilter(POP_df, \"Population mid-year estimates (millions)\", \"Total Population\")\n",
    "\n",
    "POP_filtered_df[\"Total Population\"] = POP_filtered_df[\"Total Population\"].transform(lambda x: x.replace(',', '')).apply(float)\n",
    "\n",
    "top_5 = POP_filtered_df.loc[POP_filtered_df[\"Year\"] == 2015]\\\n",
    "    .sort_values(\"Total Population\")\\\n",
    "    .tail(5)\\\n",
    "    .index\\\n",
    "    .to_list()\n",
    "\n",
    "bottom_5 = POP_filtered_df.loc[POP_filtered_df[\"Year\"] == 2015]\\\n",
    "    .sort_values(\"Total Population\")\\\n",
    "    .head(5)\\\n",
    "    .index\\\n",
    "    .to_list()"
   ]
  },
  {
   "cell_type": "markdown",
   "metadata": {},
   "source": [
    "### Get bounds of plot"
   ]
  },
  {
   "cell_type": "code",
   "execution_count": null,
   "metadata": {},
   "outputs": [],
   "source": [
    "# Get bounds of plot\n",
    "\n",
    "min_x = POP_filtered_df.sort_values(\"Year\").iloc[0][\"Year\"]\n",
    "max_x = POP_filtered_df.sort_values(\"Year\").iloc[-1][\"Year\"]\n",
    "min_y = POP_filtered_df.sort_values(\"Total Population\").iloc[0][\"Total Population\"]\n",
    "max_y = POP_filtered_df.sort_values(\"Total Population\").iloc[-1][\"Total Population\"]\n",
    "\n",
    "# Noticed hardly any countries had 2000 data.  Manually bump up to 2005. \n",
    "min_x = 2005\n",
    "\n",
    "print(f\"Min x: {min_x}\\nMax x: {max_x}\\nMin y: {min_y}\\nMax y: {max_y}\")\n",
    "\n",
    "POP_filtered_df.sort_values(\"Total Population\").head()"
   ]
  },
  {
   "cell_type": "code",
   "execution_count": null,
   "metadata": {},
   "outputs": [],
   "source": [
    "# Initialize graph\n",
    "fig, ax = plt.subplots()\n",
    "fig.set_figheight(10)\n",
    "fig.set_figwidth(20)\n",
    "ax.grid()\n",
    "ax.set_xlim((min_x - 0.05*(max_x - min_x)), \n",
    "            (max_x + 0.05*(max_x - min_x)))\n",
    "ax.set_ylim((min_y - 0.05*(max_y - min_y)), \n",
    "            (max_y + 0.05*(max_y - min_y)))\n",
    "#ax.set_xticks(GDP_LE_2005_filter[\"GDP\"].apply(locale.atoi))\n",
    "ax.set_xlabel(\"Year\", fontsize=18)\n",
    "ax.set_ylabel(\"Total Population (in millions)\", fontsize=18)\n",
    "ax.set_title(\"Total Population by Year\", fontsize=25)\n",
    "ax.tick_params(labelsize=14)\n",
    "\n",
    "# Plot top 5\n",
    "for term in set(POP_filtered_df.index):\n",
    "    if term in top_5:\n",
    "        ax.plot(POP_filtered_df.loc[term][\"Year\"], \n",
    "                POP_filtered_df.loc[term][\"Total Population\"],\n",
    "                label = term,\n",
    "                linewidth = 5)\n",
    "        ax.scatter(POP_filtered_df.loc[term][\"Year\"],\n",
    "                   POP_filtered_df.loc[term][\"Total Population\"],\n",
    "                   s = 90,\n",
    "                   marker = \"o\")\n",
    "    \n",
    "ax.legend(fontsize=12)"
   ]
  },
  {
   "cell_type": "markdown",
   "metadata": {},
   "source": [
    "## Urbanization"
   ]
  },
  {
   "cell_type": "code",
   "execution_count": null,
   "metadata": {
    "scrolled": true
   },
   "outputs": [],
   "source": [
    "# Filter population data\n",
    "\n",
    "#POPg_filtered_df = myFilter(POPg_df, \"Urban population (percent)\", \"Urban Population\")\n",
    "#POPg_filtered_df[\"Urban Population\"] = POPg_filtered_df[\"Urban Population\"].apply(pd.to_numeric)\n",
    "\n",
    "top_5 = POPg_filtered_df.loc[POPg_filtered_df[\"Year\"] == 2015]\\\n",
    "    .sort_values(\"Urban Population\")\\\n",
    "    .tail(5)\\\n",
    "    .index\\\n",
    "    .to_list()\n",
    "\n",
    "bottom_5 = POPg_filtered_df.loc[POPg_filtered_df[\"Year\"] == 2015]\\\n",
    "    .sort_values(\"Urban Population\")\\\n",
    "    .head(5)\\\n",
    "    .index\\\n",
    "    .to_list()\n",
    "\n",
    "print(f\"Top: {top_5}\")\n",
    "print(f\"Bottom: {bottom_5}\")"
   ]
  },
  {
   "cell_type": "markdown",
   "metadata": {},
   "source": [
    "### Get bounds"
   ]
  },
  {
   "cell_type": "code",
   "execution_count": null,
   "metadata": {},
   "outputs": [],
   "source": [
    "# Get bounds of plot\n",
    "\n",
    "min_x = POPg_filtered_df.sort_values(\"Year\").iloc[0][\"Year\"]\n",
    "max_x = POPg_filtered_df.sort_values(\"Year\").iloc[-1][\"Year\"]\n",
    "min_y = POPg_filtered_df.sort_values(\"Urban Population\").iloc[0][\"Urban Population\"]\n",
    "max_y = POPg_filtered_df.sort_values(\"Urban Population\").iloc[-1][\"Urban Population\"]\n",
    "\n",
    "# Noticed hardly any countries had 2000 data.  Manually bump up to 2005. \n",
    "min_x = 2005\n",
    "\n",
    "print(f\"Min x: {min_x}\\nMax x: {max_x}\\nMin y: {min_y}\\nMax y: {max_y}\")"
   ]
  },
  {
   "cell_type": "code",
   "execution_count": null,
   "metadata": {},
   "outputs": [],
   "source": [
    "# Initialize graph\n",
    "fig, ax = plt.subplots()\n",
    "fig.set_figheight(10)\n",
    "fig.set_figwidth(20)\n",
    "ax.grid()\n",
    "ax.set_xlim((min_x - 0.05*(max_x - min_x)), \n",
    "            (max_x + 0.05*(max_x - min_x)))\n",
    "ax.set_ylim((min_y - 0.05*(max_y - min_y)), \n",
    "            (max_y + 0.05*(max_y - min_y)))\n",
    "#ax.set_xticks(GDP_LE_2005_filter[\"GDP\"].apply(locale.atoi))\n",
    "ax.set_xlabel(\"Year\", fontsize=18)\n",
    "ax.set_ylabel(\"Percent Urban Population\", fontsize=18)\n",
    "ax.set_title(\"Percent Urban Population by Year\", fontsize=25)\n",
    "ax.tick_params(labelsize=14)\n",
    "\n",
    "# Plot top 5\n",
    "for term in set(POPg_filtered_df.index):\n",
    "    ax.plot(POPg_filtered_df.loc[term][\"Year\"], \n",
    "            POPg_filtered_df.loc[term][\"Urban Population\"],\n",
    "            label = term,\n",
    "            color = \"black\",\n",
    "            linewidth = 1)\n",
    "    ax.scatter(POPg_filtered_df.loc[term][\"Year\"],\n",
    "               POPg_filtered_df.loc[term][\"Urban Population\"],\n",
    "               s = 50,\n",
    "               color = \"black\",\n",
    "               marker = \"o\")\n",
    "\n",
    "plt.show()"
   ]
  },
  {
   "cell_type": "markdown",
   "metadata": {},
   "source": [
    "## Show what's in directory"
   ]
  },
  {
   "cell_type": "code",
   "execution_count": null,
   "metadata": {},
   "outputs": [],
   "source": [
    "# Show what data we have\n",
    "import os\n",
    "os.listdir(\"Data\")"
   ]
  },
  {
   "cell_type": "code",
   "execution_count": null,
   "metadata": {},
   "outputs": [],
   "source": [
    "POPg_df.head(20)"
   ]
  },
  {
   "cell_type": "code",
   "execution_count": null,
   "metadata": {},
   "outputs": [],
   "source": []
  }
 ],
 "metadata": {
  "kernelspec": {
   "display_name": "Python 3",
   "language": "python",
   "name": "python3"
  },
  "language_info": {
   "codemirror_mode": {
    "name": "ipython",
    "version": 3
   },
   "file_extension": ".py",
   "mimetype": "text/x-python",
   "name": "python",
   "nbconvert_exporter": "python",
   "pygments_lexer": "ipython3",
   "version": "3.7.3"
  }
 },
 "nbformat": 4,
 "nbformat_minor": 2
}
